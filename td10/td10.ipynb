{
 "cells": [
  {
   "cell_type": "markdown",
   "id": "50af50fa",
   "metadata": {
    "tags": []
   },
   "source": [
    "![PNS](http://caillau.perso.math.cnrs.fr/logo-pns.png)\n",
    "## MAM3\n",
    "# Mathématiques de l'ingénieur.e 1\n",
    "# 2022-2023\n",
    "\n",
    "# TD 10 - Transformée de fourier (bis)\n",
    "\n",
    "## Exo 1 \n",
    "\n",
    "Soit $G_\\sigma:x\\mapsto\\frac{1}{\\sigma \\sqrt{2 \\pi}}e^{-\\frac{x^2}{2\\sigma^2}}$ et soit $\\hat{G}_\\sigma$ sa transformée de Fourier.\n",
    "\n",
    "### 1.1\n",
    "Montrer que $\\hat{G}_\\sigma$ est dérivable sur $\\mathbf{R}$.\n",
    "\n",
    "### 1.2\n",
    "En déduire que $\\hat{G}_\\sigma$ est solution une équation différentielle linéaire et la résoudre en s'appuyant sur le problème de Cauchy  $\\hat{G}_\\sigma(0)=1$.\n",
    "\n",
    "## Exo 2\n",
    "Soit $f \\in L^1(\\mathbf{R})$ telle que\n",
    "\n",
    "$$ f(t) = \\int_{-\\infty}^t g(s)\\,\\mathrm{d}s $$\n",
    "\n",
    "avec $g \\in L^1(\\mathbf{R})$. On définit alors et on note $f':=g$.\n",
    "Montrer que pour tout $\\xi\\in \\mathbf{R}$, \n",
    "$$\n",
    "\\widehat{f'}(\\xi)=2i\\pi \\xi \\hat{f}(\\xi).\n",
    "$$\n",
    "\n",
    "## Exo 3\n",
    "On considère une fonction qui à tout $(t,x)\\in [0,+\\infty[\\times \\mathbf{R}$, associe $u(t,x)\\in \\mathbf{R}.$ On suppose que pour $t\\geq 0$, $u(t,\\cdot), \\partial_x u(t,\\cdot), \\partial_{xx} u(t,\\cdot)$ sont toutes de classe $L^1(\\mathbf{R})$ (au sens de l'exercice 2).\n",
    "On cherche à décrire un tel $u$ vérifiant l'équation de la chaleur unidimensionnelle \n",
    "$$\n",
    "\\partial_t u(t,x)=\\partial_{xx}u(t,x), \\qquad (t,x)\\in ]0,+\\infty[\\times \\mathbf{R}.\n",
    "$$\n",
    "\n",
    "### 3.1\n",
    "Pour tout $t> 0$ fixé, exprimer $\\widehat{\\partial_{xx}u(t,\\cdot)}$ en fonction de $\\widehat{u(t,\\cdot)}$. \n",
    "\n",
    "### 3.2\n",
    "Montrer que pour tout $\\xi\\in \\mathbf{R}$, $t\\mapsto \\hat{u}(t,\\xi)$ satisfait une équation différentielle linéaire. En déduire la valeur de $\\hat{u}(t,\\xi)$ en fonction de $\\hat{u}_0(\\xi)$, où $u_0=u(0,\\cdot)$.\n",
    "\n",
    "### 3.3\n",
    "En déduire $u(t,x)$ pour tout $t>0$ et $x\\in \\mathbf{R}$. (Indication : on rappelle la formule $\\widehat{f * g}=\\hat{f} \\cdot \\hat{g}$ pour tout $f,g \\in L^1(\\mathbf{R})$.)"
   ]
  }
 ],
 "metadata": {
  "kernelspec": {
   "display_name": "Julia 1.6.3",
   "language": "julia",
   "name": "julia-1.6"
  },
  "language_info": {
   "file_extension": ".jl",
   "mimetype": "application/julia",
   "name": "julia",
   "version": "1.6.3"
  }
 },
 "nbformat": 4,
 "nbformat_minor": 5
}
